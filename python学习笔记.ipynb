{
 "cells": [
  {
   "cell_type": "markdown",
   "metadata": {},
   "source": [
    "# python学习笔记"
   ]
  },
  {
   "cell_type": "markdown",
   "metadata": {},
   "source": [
    "变量名的命名和使用：\n",
    "\n",
    "- 数字、字母、下换线\n",
    "- 避免使用关键字\n",
    "- 不能用数字开头\n",
    "- 避免内置电池中的函数\n",
    "\n",
    "好的开发习惯让开发更有效率\n",
    "- 变量、函数、方法：salary、notebook、classmate\n",
    "- 常量            ：INTEREST_RATES\n",
    "- 类              ：BankAccount、CompanyEmployee  骆驼命名法\n"
   ]
  },
  {
   "cell_type": "code",
   "execution_count": 21,
   "metadata": {
    "scrolled": true
   },
   "outputs": [
    {
     "name": "stdout",
     "output_type": "stream",
     "text": [
      "gmz\n"
     ]
    }
   ],
   "source": [
    "#print_name.py\n",
    "name = \"gmz\"\n",
    "print(name)"
   ]
  },
  {
   "cell_type": "code",
   "execution_count": 22,
   "metadata": {},
   "outputs": [
    {
     "name": "stdout",
     "output_type": "stream",
     "text": [
      "gmz\n",
      "孟哲\n"
     ]
    }
   ],
   "source": [
    "#chang_name.py\n",
    "name = \"gmz\"\n",
    "print(name)\n",
    "name = \"孟哲\"\n",
    "print('孟哲')"
   ]
  },
  {
   "cell_type": "code",
   "execution_count": 5,
   "metadata": {
    "scrolled": true
   },
   "outputs": [
    {
     "name": "stdout",
     "output_type": "stream",
     "text": [
      "['False', 'None', 'True', 'and', 'as', 'assert', 'async', 'await', 'break', 'class', 'continue', 'def', 'del', 'elif', 'else', 'except', 'finally', 'for', 'from', 'global', 'if', 'import', 'in', 'is', 'lambda', 'nonlocal', 'not', 'or', 'pass', 'raise', 'return', 'try', 'while', 'with', 'yield']\n"
     ]
    }
   ],
   "source": [
    "#python中保留的关键字\n",
    "import keyword\n",
    "print(keyword.kwlist)"
   ]
  },
  {
   "cell_type": "code",
   "execution_count": 6,
   "metadata": {},
   "outputs": [],
   "source": [
    "#编译和解释"
   ]
  },
  {
   "cell_type": "code",
   "execution_count": 1,
   "metadata": {},
   "outputs": [
    {
     "name": "stdout",
     "output_type": "stream",
     "text": [
      "请输入带有符号的温度值：6F\n",
      "转化后的温度是-14.44C\n"
     ]
    }
   ],
   "source": [
    "#实例1 温度转换 \n",
    "#C=(F-32)/1.8\n",
    "TempStr = input('请输入带有符号的温度值：')\n",
    "if TempStr[-1] in ['f','F']:\n",
    "    C = (eval(TempStr[0:-1]) - 32)/1.8\n",
    "    print('转化后的温度是{:.2f}C'.format(C))\n",
    "elif TempStr[-1] in['C','c']:\n",
    "    F = 1.8*eval(TempStr[0:-1]) + 32\n",
    "    print(\"转换后的温度是{:.2f}F\".format(F))\n",
    "else:\n",
    "    print(\"输入格式错误\")\n",
    "    \n",
    "\n",
    "#字符串、索引、切片\n",
    "#数字;整数、浮点数\n",
    "#列表：[] in 判断一个元素是否在列表中\n",
    "#input(\"\")、print(\"\")  {:.0.2f} 槽 将format中的数据放到槽中\n",
    "#评估函数 eval()"
   ]
  },
  {
   "cell_type": "code",
   "execution_count": 10,
   "metadata": {},
   "outputs": [],
   "source": [
    "#python基础图形绘制\n",
    "import turtle\n",
    "turtle.setup(650,350,200,200)  \n",
    "turtle.penup()\n",
    "turtle.fd(-250)\n",
    "turtle.pendown()\n",
    "turtle.pensize(25)\n",
    "turtle.pencolor(\"purple\")\n",
    "turtle.seth(-40)\n",
    "for i in range(4):\n",
    "    turtle.circle(40,80)\n",
    "    turtle.circle(-40,80)\n",
    "turtle.circle(40,80/2)\n",
    "turtle.fd(40)\n",
    "turtle.circle(16,180)\n",
    "turtle.fd(40*2/3)\n",
    "turtle.done()"
   ]
  },
  {
   "cell_type": "markdown",
   "metadata": {},
   "source": [
    "### turtle库\n",
    "- turtle.setup() 长 宽\n",
    "- turtle.goto()  .fd() .bk() .circle()\n",
    "- turtle.seth() angle    .left() .right()\n",
    "- ---------------------------------------------------------------\n",
    "- import<库名>\n",
    "- <库名>.<函数名>(<函数参数>)\n",
    "- ---------------------------------------------------------------\n",
    "- import turtle as t\n",
    "- ---------------------------------------------------------------\n",
    "- 画笔控制函数 turtle.penup() turtlr.pendown()  turtlr.pensize()turtle.pencolor()\n",
    "- 运动控制函数 turtle.fd() circle() 左曲线\n",
    "- 方向控制函数 turtle.seth(angle) 只改变行进方向  .left() .right()  左转/右转\n"
   ]
  },
  {
   "cell_type": "code",
   "execution_count": 12,
   "metadata": {},
   "outputs": [
    {
     "name": "stdout",
     "output_type": "stream",
     "text": [
      "hello: 0\n",
      "hello: 1\n",
      "hello: 2\n",
      "hello: 3\n",
      "hello: 4\n"
     ]
    }
   ],
   "source": [
    "for i in range(5):\n",
    "    print(\"hello:\",i)"
   ]
  },
  {
   "cell_type": "markdown",
   "metadata": {},
   "source": [
    "### range() 函数\n",
    "- range(N) 产生0 - N-1\n",
    "- range(M,N) 产生M - N-1"
   ]
  },
  {
   "cell_type": "code",
   "execution_count": 18,
   "metadata": {},
   "outputs": [
    {
     "name": "stdout",
     "output_type": "stream",
     "text": [
      "8\n"
     ]
    }
   ],
   "source": [
    "# 整数类型 无限范围、十进制、二进制0b10、八进制0o20、十六进制  pow(x,y)\n",
    "# 浮点类型  浮点数间运算存在不确定尾数，不是bug   round(x,y) 对x四舍五入，d是小数截取位数、科学计数法表示\n",
    "# 复数类型 实部、虚部\n",
    "# x**y x的次方\n",
    "print(2**3)"
   ]
  },
  {
   "cell_type": "markdown",
   "metadata": {},
   "source": [
    "- -+、-、*、/、//、%、**、二元增强赋值操纵符\n",
    "- abs()、divmod()、pow()、round()、max()\n",
    "- int()、float()、complex()"
   ]
  },
  {
   "cell_type": "code",
   "execution_count": 6,
   "metadata": {},
   "outputs": [
    {
     "name": "stdout",
     "output_type": "stream",
     "text": [
      "向上：6.17,向下：0.16\n"
     ]
    }
   ],
   "source": [
    "#DayDayUpQ1.py\n",
    "dayfactor = 0.005\n",
    "dayup = pow(1+dayfactor,365)\n",
    "daydown = pow(1-dayfactor,365)\n",
    "print(\"向上：{:.2f},向下：{:.2f}\".format(dayup,daydown))"
   ]
  },
  {
   "cell_type": "code",
   "execution_count": 8,
   "metadata": {},
   "outputs": [
    {
     "name": "stdout",
     "output_type": "stream",
     "text": [
      "周内进步,周末退步：4.63\n"
     ]
    }
   ],
   "source": [
    "#DayDayUpQ2.py\n",
    "dayup = 1.0\n",
    "dayfactor = 0.01\n",
    "for i in range(365):\n",
    "    if i % 7 in [6,0]:\n",
    "        dayup = dayup*(1-dayfactor)\n",
    "    else:\n",
    "        dayup = dayup*(1+dayfactor)\n",
    "print(\"周内进步,周末退步：{:.2f}\".format(dayup))"
   ]
  },
  {
   "cell_type": "code",
   "execution_count": 35,
   "metadata": {},
   "outputs": [
    {
     "name": "stdout",
     "output_type": "stream",
     "text": [
      "周末多努力：0.019\n"
     ]
    }
   ],
   "source": [
    "#DayDayUpQ3.py\n",
    "def dayup(df):\n",
    "    dayup = 1.0\n",
    "    for i in range(365):\n",
    "        if i % 7 in [0,6]:\n",
    "            dayup = dayup * (1-0.01)\n",
    "        else:\n",
    "            dayup = dayup * (1+df)\n",
    "    return dayup\n",
    "dayfactor = 0.01\n",
    "while dayup(dayfactor) < 37.78:\n",
    "    dayfactor = dayfactor + 0.001\n",
    "print(\"周末多努力：{:.3f}\".format(dayfactor))"
   ]
  },
  {
   "cell_type": "markdown",
   "metadata": {},
   "source": [
    "### 字符串\n",
    "- 字符串有 2类共4种 表示方法 单引号 双引号 三引号\n",
    "- 字符号的序号\n",
    "- <字符串>[M,N],M缺失表示至开头，N缺失表示至结尾-----\"零一二三四五六七八九\" [:3] 结果是\"零一二\"\n",
    "- <字符串>[M,N,K],根据步长K对字符串切片：\n",
    "- \"零一二三四五六七八九\" [1,8,2] 结果是\"一三五七\"\n",
    "- \"零一二三四五六七八九\" [::-1] 结果是\"九八七六五四三二一零\"\n",
    "- 转义字符：\\b \\n \\r\n",
    "-----------------------------------------------------------------------------------------------\n",
    "- x+y 连接两个字符串x和y\n",
    "- n*x 或 x*n 复制n次字符串x\n",
    "- x in s 如果x是s的子串，返回True,否则返回False\n",
    "-----------------------------------------------------------------------------------------------\n",
    "- len(x)、str(x)转化为字符串类型、hex(x)/oct(x)转化成16/8进制 chr(u)/ord()\n"
   ]
  },
  {
   "cell_type": "code",
   "execution_count": null,
   "metadata": {},
   "outputs": [],
   "source": [
    "#获取星期字符串 \n",
    "#WeekNamePrintV1.py\n",
    "weekStr = \"星期一星期二星期三星期四星期五星期六星期日\"\n",
    "weekId = eval(input(\"请输入星期数字(1-7):\"))\n",
    "pos = (weekId-1)*3\n",
    "print(weekStr[pos:pos+3])"
   ]
  },
  {
   "cell_type": "code",
   "execution_count": 15,
   "metadata": {},
   "outputs": [
    {
     "name": "stdout",
     "output_type": "stream",
     "text": [
      "请输入星期数字(1-7):2\n",
      "星期二\n"
     ]
    }
   ],
   "source": [
    "#获取星期字符串\n",
    "#weekNamePrintV2.py\n",
    "weekStr=\"一二三四五六日\"\n",
    "weekId = eval(input(\"请输入星期数字(1-7):\"))\n",
    "print(\"星期\"+weekStr[weekId-1])"
   ]
  },
  {
   "cell_type": "code",
   "execution_count": 16,
   "metadata": {},
   "outputs": [
    {
     "data": {
      "text/plain": [
       "'1+1=2✔'"
      ]
     },
     "execution_count": 16,
     "metadata": {},
     "output_type": "execute_result"
    }
   ],
   "source": [
    "\"1+1=2\"+chr(10004)"
   ]
  },
  {
   "cell_type": "code",
   "execution_count": 17,
   "metadata": {},
   "outputs": [
    {
     "name": "stdout",
     "output_type": "stream",
     "text": [
      "♈♉♊♋♌♍♎♏♐♑♒♓"
     ]
    }
   ],
   "source": [
    "for i in range(12):\n",
    "    print(chr(9800+i),end=\"\")"
   ]
  },
  {
   "cell_type": "markdown",
   "metadata": {},
   "source": [
    "-----------------------------------------------------------------------------------------------\n",
    "### 字符串处理方法\n",
    "- str.lower()或str.upper() \n",
    "- str.split(sep=None)\n",
    "- str.count(sub)\n",
    "- str.replace(old,new)\n",
    "- str.center(width[,fillchar])\n",
    "- str.strip(chars)\n",
    "- str.join(iter)\n",
    "----------------------------------------------------------------------------------------------\n",
    "### 字符串格式化\n",
    "- 槽机制、format方法\n",
    "- :|<填充>|<对齐>|<宽度>|<,> <.精度> <类型>\n",
    "- :引号符号；<填充>用于填充的单个字符；<对齐> <左对齐、>右对齐 居中对齐\n",
    "- <宽度>；<,> 数字的千位分隔符；<.精度>； <类型>整数类型/数学类型\n",
    "----------------------------------------------------------------------------------------------\n"
   ]
  },
  {
   "cell_type": "markdown",
   "metadata": {},
   "source": [
    "### time库\n",
    "- 时间获取：time()、ctime()、gmtime\n",
    "- 时间格式化：strftime()、strptime()\n",
    "- 程序计时：sleep()、perf_counter\n",
    "- 时间格式化 %Y %m %B %d %D %a %H ...\n",
    "----------------------------------------------------------------------------------------------"
   ]
  },
  {
   "cell_type": "code",
   "execution_count": 24,
   "metadata": {},
   "outputs": [
    {
     "data": {
      "text/plain": [
       "0.00015488900316995569"
      ]
     },
     "execution_count": 24,
     "metadata": {},
     "output_type": "execute_result"
    }
   ],
   "source": [
    "import time\n",
    "start = time.perf_counter()\n",
    "end = time.perf_counter()\n",
    "end - start"
   ]
  },
  {
   "cell_type": "code",
   "execution_count": 26,
   "metadata": {},
   "outputs": [
    {
     "name": "stdout",
     "output_type": "stream",
     "text": [
      "------执行开始------\n",
      " 0 %[->..........]\n",
      "10 %[*->.........]\n",
      "20 %[**->........]\n",
      "30 %[***->.......]\n",
      "40 %[****->......]\n",
      "50 %[*****->.....]\n",
      "60 %[******->....]\n",
      "70 %[*******->...]\n",
      "80 %[********->..]\n",
      "90 %[*********->.]\n",
      "100%[**********->]\n",
      "------执行结束------\n"
     ]
    }
   ],
   "source": [
    "#文本进度条\n",
    "#TextProBarV1.py\n",
    "import time      \n",
    "scale = 10\n",
    "print(\"------执行开始------\")\n",
    "for i in range(scale+1):\n",
    "    a = '*'*i             # *复制i次\n",
    "    b = '.'*(scale-i)\n",
    "    c = (i/scale)*100\n",
    "    print(\"{:^3.0f}%[{}->{}]\".format(c,a,b))\n",
    "    time.sleep(0.1)\n",
    "print(\"------执行结束------\")"
   ]
  },
  {
   "cell_type": "code",
   "execution_count": 27,
   "metadata": {},
   "outputs": [
    {
     "name": "stdout",
     "output_type": "stream",
     "text": [
      "100%"
     ]
    }
   ],
   "source": [
    "#TextProBar2.py\n",
    "import time\n",
    "for i in range(101):\n",
    "    print(\"\\r{:3}%\".format(i),end=\"\")\n",
    "    time.sleep(0.1)"
   ]
  },
  {
   "cell_type": "code",
   "execution_count": 30,
   "metadata": {},
   "outputs": [
    {
     "name": "stdout",
     "output_type": "stream",
     "text": [
      "-----------执行开始----------\n",
      "100%[**************************************************->]5.13s\n",
      "-----------执行结束----------\n"
     ]
    }
   ],
   "source": [
    "#TextProBarV3.py\n",
    "import time\n",
    "scale = 50\n",
    "print(\"执行开始\".center(scale//2,\"-\"))\n",
    "start = time.perf_counter()\n",
    "for i in range(scale+1):\n",
    "    a = '*'*i\n",
    "    b = '.'*(scale-i)\n",
    "    c = (i/scale)*100\n",
    "    dur = time.perf_counter()-start\n",
    "    print(\"\\r{:^3.0f}%[{}->{}]{:.2f}s\".format(c,a,b,dur),end=\"\")\n",
    "    time.sleep(0.1)\n",
    "print(\"\\n\"+\"执行结束\".center(scale//2,\"-\"))"
   ]
  },
  {
   "cell_type": "code",
   "execution_count": 1,
   "metadata": {},
   "outputs": [
    {
     "data": {
      "text/plain": [
       "'对'"
      ]
     },
     "execution_count": 1,
     "metadata": {},
     "output_type": "execute_result"
    }
   ],
   "source": [
    "#二分之结构  <表达式1> if <条件> else <表达式2>\n",
    "\"对\" if 5 > 2 else \"错\""
   ]
  },
  {
   "cell_type": "code",
   "execution_count": 2,
   "metadata": {},
   "outputs": [
    {
     "name": "stdout",
     "output_type": "stream",
     "text": [
      "80\n",
      "输入成绩属于级别B\n"
     ]
    }
   ],
   "source": [
    "# 多分支结构 对不同成绩的分级问题\n",
    "score = eval(input())\n",
    "if score >= 90:\n",
    "    grade = \"A\"\n",
    "elif score >= 80:\n",
    "    grade = \"B\"\n",
    "elif score >= 70:\n",
    "    grade = \"C\"\n",
    "elif score >= 60:\n",
    "    grade = \"D\"\n",
    "elif score < 60:\n",
    "    grade = \"F\"\n",
    "print(\"输入成绩属于级别{}\".format(grade))"
   ]
  },
  {
   "cell_type": "code",
   "execution_count": 4,
   "metadata": {},
   "outputs": [],
   "source": [
    "# and or not"
   ]
  },
  {
   "cell_type": "markdown",
   "metadata": {},
   "source": [
    "### 异常处理\n",
    "---\n",
    "```\n",
    "try :\n",
    "    <语句块1>\n",
    "except：\n",
    "    <语句块2>\n",
    "```\n",
    "- 或\n",
    "```\n",
    "try :\n",
    "    <语句块1>\n",
    "except <异常类型>：\n",
    "    <语句块2>\n",
    "```\n",
    "---\n",
    "- 异常处理的高级使用\n",
    "```\n",
    "try :\n",
    "    <语句块1>\n",
    "except：\n",
    "    <语句块2>\n",
    "else:\n",
    "    <语句块3>\n",
    "finally:\n",
    "    <语句块4>\n",
    "```\n",
    "- finally对应语句块4一定执行\n",
    "- else对应语句块3在不发生异常时执行\n",
    "---"
   ]
  },
  {
   "cell_type": "markdown",
   "metadata": {},
   "source": [
    "- 身体质量指数BMI\n",
    "\n",
    "分类|国际BMI值|国内BMI值\n",
    "---|:--:|:--:\n",
    "偏瘦|<18.5|<18.5\n",
    "正常|18.5~25|18.5~24\n",
    "偏胖|25~30|24~28\n",
    "肥胖|>=30|>=28"
   ]
  },
  {
   "cell_type": "code",
   "execution_count": null,
   "metadata": {},
   "outputs": [],
   "source": [
    "#CalBMIv1.py\n",
    "height,weight = eval(input(\"请输入身高（米）和体重\\（公斤）[逗号隔开]：\"))\n",
    "bmi = weight / pow(height,2)\n",
    "print(\"MBI数值为:{:.2f}\".format(bmi))\n",
    "who = \"\"\n",
    "if bmi < 18.5:\n",
    "    who = \"偏瘦\"\n",
    "elif 18.5 <= bmi < 25:\n",
    "    who = \"正常\"\n",
    "elif 25 <= bmi <= 30:\n",
    "    who = \"偏胖\"\n",
    "else:\n",
    "    who = \"肥胖\"\n",
    "print(\"BMI指标为：国际'{0}'\".format(who))"
   ]
  },
  {
   "cell_type": "code",
   "execution_count": 16,
   "metadata": {},
   "outputs": [
    {
     "name": "stdout",
     "output_type": "stream",
     "text": [
      "请输入身高（米）和体重（公斤）[逗号隔开]:1.72,73\n",
      "BMI数值为:24.68\n",
      "BMI指标为：国际'正常',国内'偏胖'\n"
     ]
    }
   ],
   "source": [
    "#CalBMIv2.py\n",
    "height,weight = eval(input(\"请输入身高（米）和体重（公斤）[逗号隔开]:\"))\n",
    "bmi = weight / pow(height,2)\n",
    "print(\"BMI数值为:{:.2f}\".format(bmi))\n",
    "who,nat = \"\",\"\"\n",
    "if bmi < 18.5:\n",
    "    who,nat = \"偏瘦\",\"偏瘦\"\n",
    "elif 18.5 <= bmi < 24:\n",
    "     who,nat = \"正常\",\"正常\"\n",
    "elif 24 <= bmi < 25:\n",
    "    who,nat = \"正常\",\"偏胖\"\n",
    "elif 25 <= bmi < 28:\n",
    "    who,nat = \"偏胖\",\"偏胖\"\n",
    "elif 28 <= bmi < 30:   \n",
    "    who,nat = \"偏胖\",\"肥胖\"\n",
    "else:\n",
    "    who,nat = \"肥胖\",\"肥胖\"\n",
    "print(\"BMI指标为：国际'{0}',国内'{1}'\".format(who,nat))"
   ]
  },
  {
   "cell_type": "markdown",
   "metadata": {},
   "source": [
    "-------\n",
    "### 循环结构\n",
    "- for...in  循环遍历：计数、字符串、列表、文件 \n",
    "- while无线循环 ctrl+c 退出程序\n",
    "- break（多层循环、仅跳出最内层循环）、continue\n",
    "- 循环与else"
   ]
  },
  {
   "cell_type": "code",
   "execution_count": 17,
   "metadata": {},
   "outputs": [
    {
     "name": "stdout",
     "output_type": "stream",
     "text": [
      "1\n",
      "3\n",
      "5\n"
     ]
    }
   ],
   "source": [
    "for i in range(1,6,2):\n",
    "    print(i)"
   ]
  },
  {
   "cell_type": "code",
   "execution_count": 21,
   "metadata": {},
   "outputs": [
    {
     "name": "stdout",
     "output_type": "stream",
     "text": [
      "g\n",
      "a\n",
      "n\n"
     ]
    }
   ],
   "source": [
    "for c in \"gan\":\n",
    "    print(c)"
   ]
  },
  {
   "cell_type": "code",
   "execution_count": 24,
   "metadata": {},
   "outputs": [
    {
     "name": "stdout",
     "output_type": "stream",
     "text": [
      "123,like,python,"
     ]
    }
   ],
   "source": [
    "for item in [\"123\",\"like\",\"python\"]:\n",
    "    print(item,end=\",\")"
   ]
  },
  {
   "cell_type": "code",
   "execution_count": 26,
   "metadata": {},
   "outputs": [
    {
     "name": "stdout",
     "output_type": "stream",
     "text": [
      "2\n",
      "1\n",
      "0\n"
     ]
    }
   ],
   "source": [
    "a = 3\n",
    "while a > 0:\n",
    "    a = a - 1\n",
    "    print(a)"
   ]
  },
  {
   "cell_type": "code",
   "execution_count": 29,
   "metadata": {},
   "outputs": [
    {
     "name": "stdout",
     "output_type": "stream",
     "text": [
      "pyhon"
     ]
    }
   ],
   "source": [
    "for c in \"python\":\n",
    "    if c == \"t\":\n",
    "        continue\n",
    "    print(c,end=\"\")"
   ]
  },
  {
   "cell_type": "code",
   "execution_count": 30,
   "metadata": {},
   "outputs": [
    {
     "name": "stdout",
     "output_type": "stream",
     "text": [
      "py"
     ]
    }
   ],
   "source": [
    "for c in \"python\":\n",
    "    if c == \"t\":\n",
    "        break\n",
    "    print(c,end=\"\")"
   ]
  },
  {
   "cell_type": "markdown",
   "metadata": {},
   "source": [
    "-----------------------\n",
    "### random库\n",
    "- 伪随机数：采用梅森旋转算法生产的伪随机数\n",
    "- seed()、random()\n",
    "- randint(a,b)、randrange(m,n[,k])、getrandbits(k)、uniform(a,b)、choice(seq)、shuffle(seq)\n",
    "----------------------"
   ]
  },
  {
   "cell_type": "code",
   "execution_count": 33,
   "metadata": {},
   "outputs": [
    {
     "data": {
      "text/plain": [
       "0.5714025946899135"
      ]
     },
     "execution_count": 33,
     "metadata": {},
     "output_type": "execute_result"
    }
   ],
   "source": [
    "import random\n",
    "random.seed(10)\n",
    "random.random()"
   ]
  },
  {
   "cell_type": "markdown",
   "metadata": {},
   "source": [
    "### 圆周率的计算\n",
    "- 1） $\\pi=\\sum_{\\mathrm{k}=0}^{\\infty}\\left[\\frac{1}{16^{\\mathrm{k}}}\\left(\\frac{4}{8 k+1}-\\frac{2}{8 k+4}-\\frac{1}{8 k+5}-\\frac{1}{8 k+6}\\right)\\right]$\n",
    "-----------------------\n",
    "- 2）蒙特卡罗方法"
   ]
  },
  {
   "cell_type": "code",
   "execution_count": 3,
   "metadata": {},
   "outputs": [
    {
     "name": "stdout",
     "output_type": "stream",
     "text": [
      "圆周率值是：3.141592653589793\n"
     ]
    }
   ],
   "source": [
    "#CalPiV1.py\n",
    "pi = 0\n",
    "N = 100\n",
    "for k in range(N):\n",
    "    pi += 1/pow(16,k)*(4/(8*k+1)-2/(8*k+4)-1/(8*k+5)-1/(8*k+6))\n",
    "print(\"圆周率值是：{:}\".format(pi))\n",
    "    "
   ]
  },
  {
   "cell_type": "code",
   "execution_count": 9,
   "metadata": {},
   "outputs": [
    {
     "name": "stdout",
     "output_type": "stream",
     "text": [
      "圆周率值是：3.141624\n",
      "运行时间是：1.16102s\n"
     ]
    }
   ],
   "source": [
    "#CalPiV2.py\n",
    "from random import random\n",
    "from time import perf_counter \n",
    "DARTS = 1000 * 1000 #抛洒点的总数\n",
    "hits = 0.0          #圆内的点\n",
    "start = perf_counter()\n",
    "for i in range(1, DARTS+1):\n",
    "    x,y = random(),random()\n",
    "    dist = pow(x ** 2 + y ** 2, 0.5) #点到圆心的距离\n",
    "    if dist <= 1.0:\n",
    "        hits = hits + 1       #在圆内，点加一\n",
    "pi = 4*(hits/DARTS)\n",
    "print(\"圆周率值是：{}\".format(pi))\n",
    "print(\"运行时间是：{:.5f}s\".format(perf_counter()-start))"
   ]
  },
  {
   "cell_type": "code",
   "execution_count": 1,
   "metadata": {
    "scrolled": true
   },
   "outputs": [
    {
     "name": "stdout",
     "output_type": "stream",
     "text": [
      "-483\n"
     ]
    }
   ],
   "source": [
    "# 计算 1-2+3-...+966\n",
    "sum = 0\n",
    "for i in range(967):\n",
    "    if i % 2 == 0:\n",
    "        sum = sum - i\n",
    "    else:\n",
    "        sum = sum + i\n",
    "print(sum)"
   ]
  },
  {
   "cell_type": "markdown",
   "metadata": {},
   "source": [
    "### python 中如何将print输出中最后一个逗号去掉 -----print（\"num\",end=\",\"）带来的烦恼\n",
    "-------------------\n",
    "- 先定义空字符串，然后将向输入的内容后面添加逗号，并连接起来，最后输出\n",
    "        s = \"\"\n",
    "        for i in range(100, 110):\n",
    "            s  += '{},'.format(i)\n",
    "\n",
    "        print(s[:-1])\n",
    "--------------------\n",
    "- 定义列表，然后将其要输出的内容存入该列表，最后采用逗号连接 注意：i要用str转化成字符\n",
    "        s = []\n",
    "        for i in range(100, 110):\n",
    "            s.append(str(i)) \n",
    "        print(','.join(s))\n",
    "---------------------------"
   ]
  },
  {
   "cell_type": "code",
   "execution_count": 24,
   "metadata": {},
   "outputs": [
    {
     "name": "stdout",
     "output_type": "stream",
     "text": [
      "153,370,371,407\n"
     ]
    }
   ],
   "source": [
    "# 水仙花数 \n",
    "s = []\n",
    "for num in range(100,1000):\n",
    "    hundreds = (num - num%100)/100\n",
    "    tens = (num%100-num%100%10)/10\n",
    "    ones = num%100%10\n",
    "    if pow(hundreds,3)+pow(tens,3)+pow(ones,3) == num:\n",
    "        s.append(str(num))\n",
    "print(','.join(s))"
   ]
  },
  {
   "cell_type": "code",
   "execution_count": 1,
   "metadata": {},
   "outputs": [
    {
     "name": "stdout",
     "output_type": "stream",
     "text": [
      "153,370,371,407\n"
     ]
    }
   ],
   "source": [
    "s = \"\"\n",
    "for i in range(100, 1000):\n",
    "    t = str(i)\n",
    "    if pow(eval(t[0]),3) + pow(eval(t[1]),3) + pow(eval(t[2]),3) == i :\n",
    "        s += \"{},\".format(i)\n",
    "print(s[:-1])"
   ]
  },
  {
   "cell_type": "code",
   "execution_count": 28,
   "metadata": {},
   "outputs": [
    {
     "name": "stdout",
     "output_type": "stream",
     "text": [
      "gan\n",
      "434\n",
      "meng\n",
      "666\n",
      "zhe\n",
      "123\n",
      "3次用户名或者密码均有误！退出程序。\n"
     ]
    }
   ],
   "source": [
    "#1）如输入第一行输入用户名为‘Kate’,第二行输入密码为‘666666’，输出‘登录成功！’，退出程序；‪‬‪‬‪‬‪‬‪‬‮‬‪‬‫‬‪‬‪‬‪‬‪‬‪‬‮‬‭‬‫‬‪‬‪‬‪‬‪‬‪‬‮‬‭‬‫‬‪‬‪‬‪‬‪‬‪‬‮‬‪‬‫‬‪‬‪‬‪‬‪‬‪‬‮‬‫‬‭‬‪‬‪‬‪‬‪‬‪‬‮‬‭‬‫‬\n",
    "#2）当一共有3次输入用户名或密码不正确输出“3次用户名或者密码均有误！退出程序。”。‪‬‪‬‪‬‪‬‪‬‮‬‪‬‫‬‪‬‪‬‪‬‪‬‪‬‮‬‭‬‫‬‪‬‪‬‪‬‪‬‪‬‮‬‭‬‫‬‪‬‪‬‪‬‪‬‪‬‮‬‪‬‫‬‪‬‪‬‪‬‪‬‪‬‮‬‫‬‭‬‪‬‪‬‪‬‪‬‪‬‮‬‭‬‫‬\n",
    "time = 3\n",
    "while time >= 1:\n",
    "    username = input()\n",
    "    password = input()\n",
    "    if username == \"Kate\" and password == \"666666\":\n",
    "        print(\"登录成功！\")\n",
    "        break\n",
    "    else:\n",
    "        time = time - 1\n",
    "        if time == 0:\n",
    "            print(\"3次用户名或者密码均有误！退出程序。\")"
   ]
  },
  {
   "cell_type": "code",
   "execution_count": 3,
   "metadata": {
    "scrolled": true
   },
   "outputs": [
    {
     "name": "stdout",
     "output_type": "stream",
     "text": [
      "1060\n"
     ]
    }
   ],
   "source": [
    "#Prime\n",
    "def is_prime(n):\n",
    "    for i in range(2,n):\n",
    "        if n%i == 0:\n",
    "            return False\n",
    "    return True\n",
    "sum = 0\n",
    "for i in range(2,100):\n",
    "    if is_prime(i):\n",
    "        sum += i\n",
    "print(sum)"
   ]
  },
  {
   "cell_type": "code",
   "execution_count": 4,
   "metadata": {},
   "outputs": [
    {
     "name": "stdout",
     "output_type": "stream",
     "text": [
      "15\n",
      "17,19,23,29,31\n"
     ]
    }
   ],
   "source": [
    "#输入一个整数，输出这个整数之后的5个质数（包括当前质数当前数如果是质数）\n",
    "def prime(m):\n",
    "    for i in range(2,m):\n",
    "        if m%i == 0:\n",
    "            return False\n",
    "    return True\n",
    "n = eval(input())\n",
    "if n != int(n):\n",
    "    n = int(n) + 1\n",
    "else:\n",
    "    n = int(n)\n",
    "flag = 5\n",
    "while flag > 0:\n",
    "    if prime(n):\n",
    "        if flag > 1:\n",
    "            print(n,end=\",\")\n",
    "        else:\n",
    "            print(n)\n",
    "        flag = flag - 1\n",
    "    n = n + 1"
   ]
  },
  {
   "cell_type": "markdown",
   "metadata": {},
   "source": [
    "----------------------------------\n",
    "### 函数\n",
    "- 函数的定义、调用、参数（可选参数放在必选参数后;可变参数传递;名称/位置方式参数传递）\n",
    "- 函数返回值（可以返回任意多个结果）\n",
    "- 全局变量、局部变量;在函数中使用global将局部变量修改为全局变量\n",
    "---------------------------------"
   ]
  },
  {
   "cell_type": "code",
   "execution_count": 16,
   "metadata": {},
   "outputs": [
    {
     "data": {
      "text/plain": [
       "3628800"
      ]
     },
     "execution_count": 16,
     "metadata": {},
     "output_type": "execute_result"
    }
   ],
   "source": [
    "def fact(n):\n",
    "    s = 1\n",
    "    for i in range(1,n+1):\n",
    "        s *= i\n",
    "    return s\n",
    "fact(10)"
   ]
  },
  {
   "cell_type": "code",
   "execution_count": 15,
   "metadata": {},
   "outputs": [
    {
     "data": {
      "text/plain": [
       "435456000"
      ]
     },
     "execution_count": 15,
     "metadata": {},
     "output_type": "execute_result"
    }
   ],
   "source": [
    "#计算n!乘数  可变参数传递\n",
    "def fact(n, *b):\n",
    "    s = 1\n",
    "    for i in range(1, n+1):\n",
    "        s *= i\n",
    "    for item in b:\n",
    "        s *= item\n",
    "    return s\n",
    "fact(10,3,5,8)"
   ]
  },
  {
   "cell_type": "code",
   "execution_count": 19,
   "metadata": {},
   "outputs": [
    {
     "name": "stdout",
     "output_type": "stream",
     "text": [
      "['F', 'f', 'C']\n"
     ]
    }
   ],
   "source": [
    "# 局部变量为组合数据类型且未创建，等同于全局变量\n",
    "ls = [\"F\",\"f\"]  #通过使用[]真实创建了一个全局变量列表ls\n",
    "def func(a):\n",
    "    ls.append(a)  #此处ls是列表类型，未真实创建  则等同于全局变量\n",
    "    return\n",
    "func(\"C\")  #全局变量ls被修改\n",
    "print(ls)"
   ]
  },
  {
   "cell_type": "code",
   "execution_count": 18,
   "metadata": {},
   "outputs": [
    {
     "name": "stdout",
     "output_type": "stream",
     "text": [
      "['F', 'f']\n"
     ]
    }
   ],
   "source": [
    "# 局部变量为组合数据类型且真实创建，为局部变量\n",
    "ls = [\"F\",\"f\"]  #通过使用[]真实创建了一个全局变量列表ls\n",
    "def func(a):\n",
    "    ls = []\n",
    "    ls.append(a)  #此处ls是列表类型，真实创建  ls是局部变量\n",
    "    return\n",
    "func(\"C\")  #全局变量ls被修改\n",
    "print(ls)"
   ]
  },
  {
   "cell_type": "markdown",
   "metadata": {},
   "source": [
    "---------------------\n",
    "### lambda函数   返回函数名作为结果\n",
    "- lambda函数是一种匿名函数，即没有名字的函数\n",
    "- 使用lambda保留字定义，函数名是返回结果\n",
    "- lambda函数用于定义简单的、能够在一行内表示的函数\n",
    "- <函数名>=lambda<参数>：<表达式>\n",
    "- 谨慎使用lambda函数\n",
    "------------------"
   ]
  },
  {
   "cell_type": "code",
   "execution_count": 21,
   "metadata": {},
   "outputs": [
    {
     "data": {
      "text/plain": [
       "25"
      ]
     },
     "execution_count": 21,
     "metadata": {},
     "output_type": "execute_result"
    }
   ],
   "source": [
    "f = lambda x, y : x + y\n",
    "f(10,15)"
   ]
  },
  {
   "cell_type": "markdown",
   "metadata": {},
   "source": [
    "--------------------------\n",
    "### 七段数码管绘制\n",
    "- 步骤1：绘制单个数字对应的数码管\n",
    "- 步骤2：获得一串数字，绘制对应的数码管\n",
    "- 步骤3：获得当前系统时间，绘制对应的数码管\n",
    "------------------------"
   ]
  },
  {
   "cell_type": "code",
   "execution_count": 1,
   "metadata": {},
   "outputs": [],
   "source": [
    "import turtle,time\n",
    "def drawGap():#绘制数码管间隔\n",
    "    turtle.penup()\n",
    "    turtle.fd(5)\n",
    "def drawLine(draw): #绘制单段数码管\n",
    "    drawGap()\n",
    "    turtle.pendown() if draw else turtle.penup()\n",
    "    turtle.fd(40)\n",
    "    drawGap()\n",
    "    turtle.right(90)\n",
    "def drawDight(dight):#根据数字绘制七段数码管\n",
    "    drawLine(True) if dight in [2,3,4,5,6,8,9] else drawLine(False)\n",
    "    drawLine(True) if dight in [0,1,3,4,5,6,7,8,9] else drawLine(False)\n",
    "    drawLine(True) if dight in [0,2,3,5,6,8,9] else drawLine(False)\n",
    "    drawLine(True) if dight in [0,2,6,8] else drawLine(False)\n",
    "    turtle.left(90)\n",
    "    drawLine(True) if dight in [0,4,5,6,8,9] else drawLine(False)\n",
    "    drawLine(True) if dight in [0,2,3,5,6,7,8,9] else drawLine(False)\n",
    "    drawLine(True) if dight in [0,1,2,3,4,7,8,9] else drawLine(False)\n",
    "    turtle.left(180)\n",
    "    turtle.penup() #为绘制后续数字确定位置\n",
    "    turtle.fd(20)   #为绘制后续数字确定位置\n",
    "def drawDate(date):#获得要输出的数字  date为日期，格式为‘%Y-%m=%d+’\n",
    "    turtle.pencolor(\"red\")\n",
    "    for i in date:\n",
    "        if i == '-':\n",
    "            turtle.write('年',font=(\"Arial\",18,\"normal\"))\n",
    "            turtle.pencolor(\"green\")\n",
    "            turtle.fd(40)\n",
    "        elif i == '=':\n",
    "            turtle.write('月',font=(\"Arial\",18,\"normal\"))\n",
    "            turtle.pencolor(\"blue\")\n",
    "            turtle.fd(40)\n",
    "        elif i == '+':\n",
    "            turtle.write('日',font=(\"Arial\",18,\"normal\"))\n",
    "        else:\n",
    "            drawDight(eval(i))\n",
    "def main():\n",
    "    turtle.setup(800,350,200,200)\n",
    "    turtle.penup()\n",
    "    turtle.fd(-300)\n",
    "    turtle.pensize(5)\n",
    "    #drawDate('2019813')\n",
    "    drawDate(time.strftime('%Y-%m=%d+',time.gmtime()))\n",
    "    turtle.hideturtle()\n",
    "    turtle.done()\n",
    "main()"
   ]
  },
  {
   "cell_type": "markdown",
   "metadata": {},
   "source": [
    "-------------\n",
    "### 递归\n",
    "- $n !=\\left\\{\\begin{array}{cc}{1} & {n=0} \\\\ {n(n-1) !} & {\\text { otherwise }}\\end{array}\\right.$\n",
    "- 链条：计算过程存在递归链条\n",
    "- 基例：存在一个或多个不需要再次递归的基例\n",
    "----------\n"
   ]
  },
  {
   "cell_type": "code",
   "execution_count": 3,
   "metadata": {},
   "outputs": [],
   "source": [
    "#计算n! 函数+分支语句\n",
    "def fact(n):\n",
    "    if n == 0:\n",
    "        return 1\n",
    "    else:\n",
    "        return n * fact(n - 1)"
   ]
  },
  {
   "cell_type": "code",
   "execution_count": 10,
   "metadata": {},
   "outputs": [
    {
     "data": {
      "text/plain": [
       "'nam'"
      ]
     },
     "execution_count": 10,
     "metadata": {},
     "output_type": "execute_result"
    }
   ],
   "source": [
    "# 用递归 字符串反转s[::-1]\n",
    "def rvs(s):\n",
    "    if s == \"\":\n",
    "        return s\n",
    "    else:\n",
    "        return rvs(s[1:])+s[0]\n",
    "s = \"man\"\n",
    "rvs(s)"
   ]
  },
  {
   "cell_type": "code",
   "execution_count": 11,
   "metadata": {},
   "outputs": [
    {
     "data": {
      "text/plain": [
       "55"
      ]
     },
     "execution_count": 11,
     "metadata": {},
     "output_type": "execute_result"
    }
   ],
   "source": [
    "# 斐波那契数列 F(n)=F(n-1)+F(n-2)\n",
    "def f(n):\n",
    "    if n == 1 or n == 2:\n",
    "        return 1\n",
    "    else:\n",
    "        return f(n - 1) + f(n - 2)\n",
    "f(10)"
   ]
  },
  {
   "cell_type": "code",
   "execution_count": 12,
   "metadata": {},
   "outputs": [
    {
     "name": "stdout",
     "output_type": "stream",
     "text": [
      "1:A->C\n",
      "2:A->B\n",
      "1:C->B\n",
      "3:A->C\n",
      "1:B->A\n",
      "2:B->C\n",
      "1:A->C\n",
      "7\n"
     ]
    }
   ],
   "source": [
    "count = 0\n",
    "#src代表A柱子，dst代表C柱子\n",
    "def hanoi(n, src, dst, mid): #源  目的  中间\n",
    "    global count\n",
    "    if n == 1:\n",
    "        print(\"{}:{}->{}\".format(1,src,dst))\n",
    "        count += 1\n",
    "    else:\n",
    "        hanoi(n-1, src, mid, dst)  #A柱子上n-1个圆盘移动到B柱子上\n",
    "        print(\"{}:{}->{}\".format(n,src,dst))\n",
    "        count += 1                 #A柱子上最大的移动到C柱子上\n",
    "        hanoi(n-1, mid, dst, src)  #B柱子上n-1个圆盘移动到C柱子上\n",
    "hanoi(3,\"A\",\"C\",\"B\")\n",
    "print(count)"
   ]
  },
  {
   "cell_type": "markdown",
   "metadata": {},
   "source": [
    "---------\n",
    "### PyInstaller库\n",
    "- （cmd命令行）pip install pyinstaller\n",
    "- （cmd命令行）pyinstaller -F <文件名.py>  \n",
    "    如： pyinstaller -i curve.ico -F SevenDightsDrawV2.py\n",
    "\n",
    "参数|描述\n",
    ":--:|:--:|\n",
    "-h|查看帮助|\n",
    "--clean|清理打包过程中的临时文件|\n",
    "-D,--onedir|默认值,生成dist文件夹|\n",
    "-F,--onefile|在dist文件夹中只生成独立的打包文件|\n",
    "-i<图标文件名.ico>|指定打包程序使用的图标（icon文件）|\n",
    "\n",
    "-----------"
   ]
  },
  {
   "cell_type": "code",
   "execution_count": 1,
   "metadata": {},
   "outputs": [],
   "source": [
    "# KochDrawV1.py\n",
    "import turtle\n",
    "def koch(size,n):\n",
    "    if n == 0:\n",
    "        turtle.fd(size)\n",
    "    else:\n",
    "        for angle in [0, 60, -120, 60]:\n",
    "            turtle.left(angle)\n",
    "            koch(size/3,n-1)\n",
    "def main():\n",
    "    turtle.setup(600,600)\n",
    "    turtle.penup()\n",
    "    turtle.goto(-200, 100)\n",
    "    turtle.pendown()\n",
    "    turtle.pensize(2)\n",
    "    level = 3\n",
    "    koch(400, level)       #3阶科赫曲线，阶数\n",
    "    turtle.right(120)\n",
    "    koch(400, level)\n",
    "    turtle.right(120)\n",
    "    koch(400, level)\n",
    "    turtle.hideturtle()\n",
    "main()"
   ]
  },
  {
   "cell_type": "markdown",
   "metadata": {},
   "source": [
    "----------------------------\n",
    "### 组合数据类型\n",
    "- 集合类型 集合是多个元素的无序组合\n",
    "     - 集合类型与数学中的集合概念一致\n",
    "     - 集合元素之间无序，每个元素唯一，不存在相同元素\n",
    "     - 集合元素不可更改，不能是可变数据类型\n",
    "     - 集合用{}表示，元素间用逗号分隔；set()\n",
    "     - 操作符 并:S|T 差:S-T 交:S&T 补:S^T S<=T或S<T S>=T或S>T\n",
    "    \n",
    "- 序列类型（元组类型和列表类型）\n",
    "- 字典类型\n",
    "----------------------------"
   ]
  },
  {
   "cell_type": "code",
   "execution_count": 18,
   "metadata": {
    "scrolled": true
   },
   "outputs": [
    {
     "data": {
      "text/plain": [
       "{('python', 123), 123, 'python'}"
      ]
     },
     "execution_count": 18,
     "metadata": {},
     "output_type": "execute_result"
    }
   ],
   "source": [
    "A = {\"python\", 123, (\"python\",123)}\n",
    "A"
   ]
  },
  {
   "cell_type": "code",
   "execution_count": 19,
   "metadata": {},
   "outputs": [
    {
     "data": {
      "text/plain": [
       "{'M', 'e', 'g', 'h', 'm', 'n', 'z'}"
      ]
     },
     "execution_count": 19,
     "metadata": {},
     "output_type": "execute_result"
    }
   ],
   "source": [
    "B = set(\"mengzheMMM\")\n",
    "B"
   ]
  },
  {
   "cell_type": "markdown",
   "metadata": {},
   "source": [
    "### 集合处理方法\n",
    "- S.add(x)  S.discard(x)   S.remove(x)  S.clear()\n",
    "- S.pop() S.copy() len(s)  x in S"
   ]
  },
  {
   "cell_type": "code",
   "execution_count": 3,
   "metadata": {},
   "outputs": [
    {
     "name": "stdout",
     "output_type": "stream",
     "text": [
      "p123y"
     ]
    },
    {
     "data": {
      "text/plain": [
       "{'123', 'p', 'y'}"
      ]
     },
     "execution_count": 3,
     "metadata": {},
     "output_type": "execute_result"
    }
   ],
   "source": [
    "A = {\"p\",\"y\",\"123\"}\n",
    "for item in A:\n",
    "    print(item,end=\"\")\n",
    "A"
   ]
  },
  {
   "cell_type": "code",
   "execution_count": 8,
   "metadata": {},
   "outputs": [
    {
     "data": {
      "text/plain": [
       "True"
      ]
     },
     "execution_count": 8,
     "metadata": {},
     "output_type": "execute_result"
    }
   ],
   "source": [
    "#包含关系比较\n",
    "\"p\" in {\"p\",\"y\",\"123\"}"
   ]
  },
  {
   "cell_type": "code",
   "execution_count": 10,
   "metadata": {},
   "outputs": [
    {
     "data": {
      "text/plain": [
       "[123, 'p', 'y']"
      ]
     },
     "execution_count": 10,
     "metadata": {},
     "output_type": "execute_result"
    }
   ],
   "source": [
    "#数据去重:集合类型所有元素无重复\n",
    "ls = [\"p\",\"p\",\"y\",\"y\",123]\n",
    "s = set(ls) #利用了集合无重复元素的特点\n",
    "lt = list(s) #将集合转换为列表\n",
    "lt"
   ]
  },
  {
   "cell_type": "markdown",
   "metadata": {},
   "source": [
    "### 序列类型\n",
    "- 序列是一个基类类型 6个操作符 x in s; x not in s; s+t; s * n/n * s\n",
    "- len(s)、min(s)、max(s)、s.index(x)、s.index(x,i,j)、s.count(x)"
   ]
  },
  {
   "cell_type": "code",
   "execution_count": 16,
   "metadata": {},
   "outputs": [
    {
     "data": {
      "text/plain": [
       "['.io', 123, 'python']"
      ]
     },
     "execution_count": 16,
     "metadata": {},
     "output_type": "execute_result"
    }
   ],
   "source": [
    "ls = [\"python\",123,\".io\"]\n",
    "ls[::-1]"
   ]
  },
  {
   "cell_type": "code",
   "execution_count": 17,
   "metadata": {},
   "outputs": [
    {
     "data": {
      "text/plain": [
       "'oi.321nohtyp'"
      ]
     },
     "execution_count": 17,
     "metadata": {},
     "output_type": "execute_result"
    }
   ],
   "source": [
    "s = \"python123.io\"\n",
    "s[::-1]"
   ]
  },
  {
   "cell_type": "markdown",
   "metadata": {},
   "source": [
    "### 元组类型、列表类型\n",
    "- 一旦创建就不能被修改、继承了序列类型所有操作符\n",
    "- 元组因为创建后不能修改，因此没有特殊操作\n",
    "- 使用或不使用小括号"
   ]
  },
  {
   "cell_type": "code",
   "execution_count": 3,
   "metadata": {},
   "outputs": [
    {
     "data": {
      "text/plain": [
       "(4352, 'blue', ('cat', 'dog', 'tiger', 'human'))"
      ]
     },
     "execution_count": 3,
     "metadata": {},
     "output_type": "execute_result"
    }
   ],
   "source": [
    "#元祖类型定义\n",
    "creature = \"cat\",\"dog\",\"tiger\",\"human\"\n",
    "creature\n",
    "color = (0x001100, \"blue\",creature)\n",
    "color"
   ]
  },
  {
   "cell_type": "code",
   "execution_count": 4,
   "metadata": {},
   "outputs": [
    {
     "data": {
      "text/plain": [
       "('human', 'tiger', 'dog', 'cat')"
      ]
     },
     "execution_count": 4,
     "metadata": {},
     "output_type": "execute_result"
    }
   ],
   "source": [
    "#元组类型操作1\n",
    "creature = \"cat\",\"dog\",\"tiger\",\"human\"\n",
    "creature[::-1] "
   ]
  },
  {
   "cell_type": "code",
   "execution_count": 5,
   "metadata": {},
   "outputs": [
    {
     "data": {
      "text/plain": [
       "'tiger'"
      ]
     },
     "execution_count": 5,
     "metadata": {},
     "output_type": "execute_result"
    }
   ],
   "source": [
    "#元组类型操作2\n",
    "creature = \"cat\",\"dog\",\"tiger\",\"human\"\n",
    "creature[::-1] \n",
    "color = (0x001100,\"blue\",creature)\n",
    "color[-1][-2]"
   ]
  },
  {
   "cell_type": "markdown",
   "metadata": {},
   "source": [
    "### 列表类型定义\n",
    "#### 列表是序列类型的一种扩展，十分常用\n",
    "- 列表是一种序列类型，创建后可以随意被修改\n",
    "- 使用方括号[]或list()创建,元素间用逗号，分隔\n",
    "- 列表中各元素类型可以不同，无长度限制"
   ]
  },
  {
   "cell_type": "code",
   "execution_count": 8,
   "metadata": {},
   "outputs": [
    {
     "data": {
      "text/plain": [
       "['cat', 'dog', 'tiger', 1024]"
      ]
     },
     "execution_count": 8,
     "metadata": {},
     "output_type": "execute_result"
    }
   ],
   "source": [
    "ls = [\"cat\",\"dog\",\"tiger\",1024]\n",
    "ls #显示列表\n",
    "lt = ls #列表赋值 方括号[]真正创建一个列表，赋值仅传递引用\n",
    "lt"
   ]
  },
  {
   "cell_type": "markdown",
   "metadata": {},
   "source": [
    "#### 列表类型操作函数和方法\n",
    "- ls[i] = x 替换列表ls第i个元素为x\n",
    "- ls[i:j:k] = lt 用列表lt替换ls切片后所对应元素子列表\n",
    "- del ls[i] 删除列表ls中第i元素\n",
    "- del ls[i:j:k] 删除列表ls中第i到第j以k为步长的元素\n",
    "- ls += lt 更新列表ls,将列表lt元素增加到列表ls中\n",
    "- ls *= n 元素复制\n",
    "- ls.append(x) 在列表最后增加一个元素\n",
    "- ls.clear() 删除列表ls中所有元素\n",
    "- ls.copy() 生成一个新列表，赋值ls中所有元素\n",
    "- ls.insert(i,x)在列表ls的第i个位置增加元素x\n",
    "- ls.pop(i) 将列表ls中第i位置元素取出并删除该元素\n",
    "- ls.remove(x) 将列表ls中出现的第一个元素x删除"
   ]
  },
  {
   "cell_type": "code",
   "execution_count": 2,
   "metadata": {},
   "outputs": [
    {
     "data": {
      "text/plain": [
       "<function list.clear()>"
      ]
     },
     "execution_count": 2,
     "metadata": {},
     "output_type": "execute_result"
    }
   ],
   "source": [
    "lt = [] #定义空列表\n",
    "lt += [1,2,3,4,5] #向lt新增5个元素\n",
    "lt[2] = 6 #修改lt中第2个元素\n",
    "lt.insert(2,7) #向lt中第二个位置增加一个元素\n",
    "del lt[1] #从lt中第一个位置删除一个元素\n",
    "del lt[1:4]#删除lt中第1-3位置元素\n",
    "0 in lt # 判断lt中是否包含数字0\n",
    "lt.append(0) #向lt新增数字0\n",
    "lt.index(0) #返回数字0所在lt中的索引\n",
    "len(lt) #lt中最大元素\n",
    "max(lt) #lt最大元素\n",
    "lt.clear #清空lt"
   ]
  },
  {
   "cell_type": "markdown",
   "metadata": {},
   "source": [
    "#### 序列类型应用\n",
    "#### 序列类型应用场景\n",
    "- 元组用于元素不改变的应用场景，更多用于固定搭配场景\n",
    "- 列表更加灵活，它是最常用的序列类型\n",
    "- 最主要作用：表示一组有序数据，进而操作它们"
   ]
  },
  {
   "cell_type": "code",
   "execution_count": 8,
   "metadata": {},
   "outputs": [],
   "source": [
    "#元素遍历\n",
    "for item in ls:\n",
    "    <语句块>"
   ]
  },
  {
   "cell_type": "markdown",
   "metadata": {},
   "source": [
    "### 补充1：容器以及容器的访问使用"
   ]
  },
  {
   "cell_type": "markdown",
   "metadata": {},
   "source": [
    "#### list列表\n",
    "- 序列是Python中最基本的数据结构。序列中的每个元素都分配一个数字：它的位置或索引，第一个索引是0，第二个是1，依次类推\n",
    "- 列表的数据项不需要具有相同的类型\n",
    "#### tuple元组（只读列表）\n",
    "#### dict字典\n",
    "- 字典的每个键值（key=>value）对用冒号（:）分割，每个对之间用逗号（,）分割，整个字典包括在花括号（{}）中。\n",
    "#### set集合\n",
    "- 是一个无序不重复元素集，基本功能包括关系测试和消除重复元素。集合对象还支持union（联合），intersection(交)，difference(差)和sysmmetric difference（对称差集）等数学运算。"
   ]
  },
  {
   "cell_type": "code",
   "execution_count": 20,
   "metadata": {},
   "outputs": [
    {
     "name": "stdout",
     "output_type": "stream",
     "text": [
      "<class 'type'>\n",
      "1\n",
      "{1: 'one', 2: 'two'}\n",
      "[1, 2, 3]\n",
      "3\n",
      "4\n",
      "[1, 2, 3, 4, 5, 6, 7, 8]\n",
      "Empty\n",
      "Empty\n",
      "1\n",
      "2\n",
      "3\n",
      "456\n",
      "[1, 2, 3]\n",
      "{1: 'one', 2: 'two'}\n",
      "1\n",
      "2\n",
      "3\n",
      "456\n",
      "[1, 2, 3]\n",
      "{1: 'one', 2: 'two'}\n"
     ]
    }
   ],
   "source": [
    "#list基本操作\n",
    "li = [1,2,3,'456',[1,2,3],{1:'one',2:'two'}]\n",
    "print(type(list))\n",
    "\n",
    "#元素访问\n",
    "print(li[0])\n",
    "print(li[-1])  #li[len(li) - 1]\n",
    "print(li[-2])  #li[len(li) - 1]\n",
    "\n",
    "#查找元素的位置\n",
    "print(li.index('456'))\n",
    "print(li.index([1,2,3]))\n",
    "#print(li.index(-1))\n",
    "\n",
    "#添加元素\n",
    "l_a = [1,2,3]\n",
    "l_a.append(4)\n",
    "l_a.append(5)\n",
    "l_b = [6,7,8]\n",
    "l_a.extend(l_b)  #区别于l_a.append(l_b)\n",
    "print(l_a)\n",
    "\n",
    "def my_extend(li, n_li):\n",
    "    for i in n_li:\n",
    "        li.append(i)\n",
    "\n",
    "#判断容器是否为空\n",
    "l_a = []\n",
    "if not l_a:\n",
    "    print('Empty') #not XX和is None 不是一回事\n",
    "\n",
    "if len(l_a) == 0:\n",
    "    print('Empty')\n",
    "\n",
    "#遍历\n",
    "for i in li:\n",
    "    print(i)\n",
    "for i in range(len(li)):\n",
    "    print(li[i])"
   ]
  },
  {
   "cell_type": "code",
   "execution_count": 4,
   "metadata": {},
   "outputs": [
    {
     "name": "stdout",
     "output_type": "stream",
     "text": [
      "请输入数字（回车退出）:1\n",
      "请输入数字（回车退出）:2\n",
      "请输入数字（回车退出）:3\n",
      "请输入数字（回车退出）:\n",
      "平均值：2.0,方差:1.0,中位数:2.\n"
     ]
    }
   ],
   "source": [
    "#基本统计值计算\n",
    "#基本统计值计算 实例10\n",
    "def getNum():#循环获取一组数据\n",
    "    nums = []\n",
    "    iNumStr = input('请输入数字（回车退出）:')\n",
    "    while iNumStr != \"\":\n",
    "        nums.append(eval(iNumStr))\n",
    "        iNumStr = input('请输入数字（回车退出）:')\n",
    "    return nums\n",
    "\n",
    "def mean(numbers): #求平均值\n",
    "    s = 0.0\n",
    "    for num in numbers:\n",
    "        s = s + num\n",
    "    return s / len(numbers)\n",
    "\n",
    "def dev(numbers, mean):#求方差\n",
    "    sdev = 0.0\n",
    "    for num in numbers:\n",
    "        sdev = sdev + (num - mean)**2\n",
    "    return pow(sdev / (len(numbers)-1), 0.5)\n",
    "\n",
    "def median(numbers):#计算中位数\n",
    "    sorted(numbers)\n",
    "    size = len(numbers)\n",
    "    if size % 2 == 0:\n",
    "        med = (numbers[size//2 - 1] + numbers[size//2])/2\n",
    "    else:\n",
    "        med = numbers[size//2]\n",
    "    return med\n",
    "n = getNum()\n",
    "m = mean(n)\n",
    "print(\"平均值：{},方差:{:.2},中位数:{}.\".format(m, dev(n,m),median(n)))"
   ]
  },
  {
   "cell_type": "markdown",
   "metadata": {},
   "source": [
    "#### 基本统计值计算\n",
    "- 获取多个数据\n",
    "- 分隔多个函数\n",
    "- 充分利用函数\n",
    "---------------------------------------------------------\n",
    "### 字典类型\n",
    "- 字典类型：理解“映射”：映射是一种键（索引）和数据的对应\n",
    "- 键值对：键是数据索引的扩展\n",
    "- 字典是键值对的集合，键值对之间无序\n",
    "- 采用大括号{}和dict()创建,键值对用冒号：表示\n",
    "- {<键1>：<值1>,<键2>:<值2>,...,<键n>:<值n>}\n",
    "\n",
    "- 在字典变量中，通过键获得值\n",
    "- <字典变量> = {<键1>:<值1>,...,<键n>:<值n>}\n",
    "- <值> = <字典变量>[<键>] <字典变量>[<键>] = <值>"
   ]
  },
  {
   "cell_type": "code",
   "execution_count": 8,
   "metadata": {},
   "outputs": [
    {
     "data": {
      "text/plain": [
       "'北京'"
      ]
     },
     "execution_count": 8,
     "metadata": {},
     "output_type": "execute_result"
    }
   ],
   "source": [
    "d = {\"中国\":\"北京\",\"美国\":\"华盛顿\",\"法国\":\"巴黎\"}\n",
    "d\n",
    "d[\"中国\"]"
   ]
  },
  {
   "cell_type": "code",
   "execution_count": 10,
   "metadata": {},
   "outputs": [
    {
     "data": {
      "text/plain": [
       "dict"
      ]
     },
     "execution_count": 10,
     "metadata": {},
     "output_type": "execute_result"
    }
   ],
   "source": [
    "#生成一个空字典\n",
    "de = {};\n",
    "type(de)"
   ]
  },
  {
   "cell_type": "markdown",
   "metadata": {},
   "source": [
    "#### 字典类型操作函数和方法\n",
    "- del d[k] 删除字典d中键k对应的数据值\n",
    "- k in d 判断键k是否在字典中，如果在返回True\n",
    "- d.keys() 返回字典d中所有的键信息\n",
    "- d.values 返回字典d中所有的值信息\n",
    "- d.items() 返回字典中所有的键值对信息\n",
    "-----------------------------------\n",
    "- d.get(k,<default>)  键k存在，则返回相应值，不存在则返回<default>值\n",
    "- d.pop(k,<default>)  键k存在，则取出响应值，不存在则返回<default>值\n",
    "- d.popitem()         随机从字典d中取出一个键值对，以元组形式返回\n",
    "- d.clear()           删除所有的键值对\n",
    "- len(d)              返回字典d中元素的个数\n",
    "-------------------------------------\n",
    "    "
   ]
  },
  {
   "cell_type": "code",
   "execution_count": 13,
   "metadata": {},
   "outputs": [
    {
     "data": {
      "text/plain": [
       "dict_values(['北京', '华盛顿', '巴黎'])"
      ]
     },
     "execution_count": 13,
     "metadata": {},
     "output_type": "execute_result"
    }
   ],
   "source": [
    "d = {\"中国\":\"北京\",\"美国\":\"华盛顿\",\"法国\":\"巴黎\"}\n",
    "\"中国\" in d\n",
    "d.keys()\n",
    "d.values() "
   ]
  },
  {
   "cell_type": "code",
   "execution_count": 7,
   "metadata": {},
   "outputs": [
    {
     "name": "stdout",
     "output_type": "stream",
     "text": [
      "北京\n",
      "伊斯兰堡\n"
     ]
    },
    {
     "data": {
      "text/plain": [
       "('法国', '巴黎')"
      ]
     },
     "execution_count": 7,
     "metadata": {},
     "output_type": "execute_result"
    }
   ],
   "source": [
    "d = {\"中国\":\"北京\",\"美国\":\"华盛顿\",\"法国\":\"巴黎\"}\n",
    "print( d.get(\"中国\",\"伊斯兰堡\") )\n",
    "print( d.get(\"巴基斯坦\",\"伊斯兰堡\") )\n",
    "d.popitem()       #随机获取键值对"
   ]
  },
  {
   "cell_type": "code",
   "execution_count": 12,
   "metadata": {},
   "outputs": [],
   "source": [
    "#字典的基本操作\n",
    "d = {} #定义一个空字典\n",
    "d[\"a\"] = 1;d[\"b\"] = 2 #向d新增2个键值对元素\n",
    "d[\"b\"] = 3 #修改第二个元素\n",
    "\"c\" in d  #判断字符“c”是否是d的键\n",
    "len(d)    #计算d的长度\n",
    "d.clear()  #清空d"
   ]
  },
  {
   "cell_type": "markdown",
   "metadata": {},
   "source": [
    "#### 字典类型应用场景：映射的表达\n",
    "- 映射无处不在，键值无处不在\n",
    "- 例如：统计数据出现的次数，数据是键，次数是值\n",
    "- 最主要作用：表达键值对数据，进而操作它们\n",
    "----------------------------------------------------------------------"
   ]
  },
  {
   "cell_type": "markdown",
   "metadata": {},
   "source": [
    "### jieba库的使用:jieba是优秀的中文分词第三方库"
   ]
  },
  {
   "cell_type": "markdown",
   "metadata": {},
   "source": [
    "- 中文文本需要通过分词获得单个的词语\n",
    "- jieba是优秀的中文分词第三方库，需要额外安装\n",
    "- jieba库提供三种分词模式，最简单只需要掌握一个函数jieba.lcut(s)\n",
    "----------------------------"
   ]
  },
  {
   "cell_type": "markdown",
   "metadata": {},
   "source": [
    "#### jieba分词的原理：jieba分词依靠中文词库\n",
    "- 利用一个中文词库，确定汉字之间的关联概率\n",
    "- 汉字间概率大的组成词组，形成分词结果\n",
    "- 除了分词，用户还可以添加自定义的词组\n",
    "----------------------------------------------------------"
   ]
  },
  {
   "cell_type": "markdown",
   "metadata": {},
   "source": [
    "jieba分词的三种模式：精确模式、全模式、搜索引擎模式\n",
    "- 精确模式：把文本精确的切分开，不存在冗余单词\n",
    "- 全模式：把文本中所有可能的词语都扫描出来，有冗余\n",
    "- 搜索引擎模式：在精确模式的基础上，对长词再次细分"
   ]
  },
  {
   "cell_type": "code",
   "execution_count": 5,
   "metadata": {},
   "outputs": [
    {
     "name": "stdout",
     "output_type": "stream",
     "text": [
      "the        1138\n",
      "and         965\n",
      "to          754\n",
      "of          669\n",
      "you         550\n",
      "i           542\n",
      "a           542\n",
      "my          514\n",
      "hamlet      462\n",
      "in          436\n"
     ]
    }
   ],
   "source": [
    "# CalHamletV1.py\n",
    "def getText():\n",
    "    txt = open(\"D:/BaiduYunDownload/hamlet.txt\",\"r\").read()\n",
    "    txt = txt.lower() #变成小写\n",
    "    #将各种字符替换为空格\n",
    "    for ch in '!\"#$%&()*+,-./:;<=>?@[\\\\]^_{|}':\n",
    "        txt = txt.replace(ch,\" \")\n",
    "    return txt\n",
    "\n",
    "hamletTxt = getText()\n",
    "#word是一个列表类型，里面每个元素是空格分开的单词\n",
    "words = hamletTxt.split() #默认使用空格\n",
    "counts = {}\n",
    "for word in words:\n",
    "    counts[word] = counts.get(word,0) + 1\n",
    "items = list(counts.items())\n",
    "#列表.sort 方法\n",
    "items.sort(key=lambda x:x[1], reverse=True)\n",
    "for i in range(10):\n",
    "    word, count = items[i]\n",
    "    print(\"{0:<10}{1:>5}\".format(word, count))"
   ]
  },
  {
   "cell_type": "code",
   "execution_count": 6,
   "metadata": {},
   "outputs": [
    {
     "name": "stderr",
     "output_type": "stream",
     "text": [
      "Building prefix dict from the default dictionary ...\n",
      "Dumping model to file cache C:\\Users\\john\\AppData\\Local\\Temp\\jieba.cache\n",
      "Loading model cost 1.719 seconds.\n",
      "Prefix dict has been built succesfully.\n"
     ]
    },
    {
     "name": "stdout",
     "output_type": "stream",
     "text": [
      "曹操          953\n",
      "孔明          836\n",
      "将军          772\n",
      "却说          656\n",
      "玄德          585\n",
      "关公          510\n",
      "丞相          491\n",
      "二人          469\n",
      "不可          440\n",
      "荆州          425\n",
      "玄德曰         390\n",
      "孔明曰         390\n",
      "不能          384\n",
      "如此          378\n",
      "张飞          358\n"
     ]
    }
   ],
   "source": [
    "# CalThreeKingdomsV1.py\n",
    "import jieba\n",
    "txt = open(\"D:/BaiduYunDownload/threekingdoms.txt\", \"r\",encoding = \"utf-8\").read()\n",
    "words = jieba.lcut(txt)\n",
    "counts = {}\n",
    "for word in words:\n",
    "    if len(word) == 1:\n",
    "        continue\n",
    "    else:\n",
    "        counts[word] = counts.get(word, 0) + 1\n",
    "items = list(counts.items())\n",
    "items.sort(key=lambda x:x[1], reverse=True)\n",
    "for i in range(15):\n",
    "    word,count = items[i]\n",
    "    print(\"{0:<10}{1:>5}\".format(word, count))\n",
    "    "
   ]
  },
  {
   "cell_type": "code",
   "execution_count": 9,
   "metadata": {},
   "outputs": [
    {
     "name": "stdout",
     "output_type": "stream",
     "text": [
      "曹操          953\n",
      "孔明          836\n",
      "张飞          358\n",
      "吕布          300\n",
      "赵云          278\n",
      "刘备          277\n",
      "孙权          264\n",
      "陛下          223\n",
      "都督          221\n",
      "司马懿         221\n",
      "人马          220\n",
      "不知          219\n",
      "周瑜          217\n",
      "汉中          211\n",
      "只见          207\n",
      "众将          207\n",
      "后主          201\n",
      "袁绍          191\n",
      "蜀兵          190\n",
      "上马          188\n"
     ]
    }
   ],
   "source": [
    "# CalThreeKingdomsV1.py\n",
    "import jieba\n",
    "txt = open(\"D:/BaiduYunDownload/threekingdoms.txt\", \"r\",encoding = \"utf-8\").read()\n",
    "excludes = {\"将军\",\"却说\",\"荆州\",\"二人\",\"不可\",\"不能\",\n",
    "            \"如此\",\"商议\",\"如何\",\"主公\",\"军士\",\"左右\",\"军马\"\n",
    "            ,\"引兵\",\"次日\",\"大喜\",\"于是\",\"一人\",\"天下\",\"今日\"\n",
    "            ,\"东吴\",\"不敢\",\"魏兵\"}\n",
    "words = jieba.lcut(txt)\n",
    "counts = {}\n",
    "for word in words:\n",
    "    if len(word) == 1:\n",
    "        continue\n",
    "    elif word == \"诸葛亮\" or word == \"孔明曰\":\n",
    "        rword = \"孔明\"\n",
    "    elif word == \"关公\" or word == \"云长\":\n",
    "        rword = \"关羽\"\n",
    "    elif word == \"玄德\" or word == \"玄德曰\":\n",
    "        rword = \"刘备\"\n",
    "    elif word == \"孟德\" or word == \"丞相\":\n",
    "        rword = \"曹操\"\n",
    "    else:\n",
    "        rword = word\n",
    "        counts[rword] = counts.get(rword, 0) + 1\n",
    "for word in excludes:\n",
    "    del counts[word]\n",
    "items = list(counts.items())\n",
    "items.sort(key=lambda x:x[1], reverse=True)\n",
    "for i in range(20):\n",
    "    word,count = items[i]\n",
    "    print(\"{0:<10}{1:>5}\".format(word, count))"
   ]
  },
  {
   "cell_type": "markdown",
   "metadata": {},
   "source": [
    "#### 应用问题扩展\n",
    "- 《红楼梦》、《西游记》、《水浒传》...\n",
    "- 科研论文、新闻报道、政府工作报告...\n",
    "- 进一步呢？未来还有词云...\n",
    "-----------------------------------"
   ]
  },
  {
   "cell_type": "code",
   "execution_count": 10,
   "metadata": {},
   "outputs": [
    {
     "name": "stdout",
     "output_type": "stream",
     "text": [
      "史达琳\n"
     ]
    }
   ],
   "source": [
    "#读入《沉默的羔羊》内容，分词后输出长度大于2且最多的单词。‪‬‪‬‪‬‪‬‪‬‮‬‪‬‫‬‪‬‪‬‪‬‪‬‪‬‮‬‭‬‫‬‪‬‪‬‪‬‪‬‪‬‮‬‭‬‫‬‪‬‪‬‪‬‪‬‪‬‮‬‪‬‫‬‪‬‪‬‪‬‪‬‪‬‮‬‫‬‭‬‪‬‪‬‪‬‪‬‪‬‮‬‭‬‫‬\n",
    "#如果存在多个单词出现频率一致，请输出按照Unicode排序后最大的单词。\n",
    "import jieba\n",
    "with open('D:\\BaiduYunDownload\\沉默的羔羊.txt', 'r', encoding='utf-8') as f:\n",
    "    txt = f.read()\n",
    "    words = jieba.lcut(txt)\n",
    "    counts = {}\n",
    "    for word in words:\n",
    "    # 过滤长度为1的单词\n",
    "        if len(word) == 1:\n",
    "            continue\n",
    "        else:\n",
    "            counts[word] = counts.get(word, 0) + 1\n",
    "# 对词语根据出现的频率进行排序\n",
    "wordlst = list(counts.items())\n",
    "wordlst.sort(key=lambda x:x[1], reverse=True)\n",
    "maxfreq = wordlst[0][1]  # 确定最大的频率\n",
    "maxfreqwords = []  # 新建一个最大频率单词的列表(假设存在多个单词频率相同，且频率最大)\n",
    "for i in wordlst:\n",
    "    if i[1] == maxfreq:\n",
    "        maxfreqwords.append(i)\n",
    "    else:\n",
    "        break  # 一旦遍历至频率值小于最大频率值时，跳出，不必继续遍历，节约计算时间\n",
    "maxfreqwords.sort(key=lambda x:x[0], reverse=True)  # 按照Unicode排序\n",
    "print(maxfreqwords[0][0])\n"
   ]
  },
  {
   "cell_type": "markdown",
   "metadata": {},
   "source": [
    "### 文件和数据格式化"
   ]
  },
  {
   "cell_type": "code",
   "execution_count": 3,
   "metadata": {},
   "outputs": [
    {
     "data": {
      "text/plain": [
       "'\\n读文件\\na.read(size)\\na.readline(size)\\na.readlines(hint)\\n\\n写文件\\na.write(s)\\na.writelines(lines)\\na.seek(offset)\\n'"
      ]
     },
     "execution_count": 3,
     "metadata": {},
     "output_type": "execute_result"
    }
   ],
   "source": [
    "# 文本文件（UTF-8、.txt、.py）和二进制文件(没有统一的编码 .png) \n",
    "# 打开-处理-关闭\n",
    "'''\n",
    "读文件\n",
    "a.read(size) #读入全部内容，如果给出参数，读入前size\n",
    "a.readline(size)\n",
    "a.readlines(hint)\n",
    "\n",
    "写文件\n",
    "a.write(s)\n",
    "a.writelines(lines)\n",
    "a.seek(offset)\n",
    "\n",
    "'''"
   ]
  },
  {
   "cell_type": "code",
   "execution_count": 5,
   "metadata": {},
   "outputs": [],
   "source": [
    "#文件的打开：绝对路径相对路径\n",
    "#rt 只读；w+覆盖写模式;a+追加写模式;x创建写模式;b二进制模式;wb文件覆盖写 二进制形式\n",
    "file = open('D:\\BaiduYunDownload\\沉默的羔羊.txt')"
   ]
  },
  {
   "cell_type": "code",
   "execution_count": null,
   "metadata": {},
   "outputs": [],
   "source": [
    "#文件的全文本操作 \n",
    "\n",
    "#遍历全文本：方法一 一次读入统一处理\n",
    "fname = input(\"请输入要打开的文件名称:\")\n",
    "fo = open(fname,\"r\")\n",
    "txt = fo.read()\n",
    "#对全文txt进行处理\n",
    "fo.close\n",
    "\n",
    "#方法二:按数量读入，逐步处理\n",
    "fname = input(\"请输入要打开的文件名称:\")\n",
    "fo = open(fname,\"r\")\n",
    "txt = fo.read(2)\n",
    "while txt != \"\":\n",
    "    #对txt进行处理\n",
    "    txt = fo.read(2)\n",
    "fo.close()"
   ]
  },
  {
   "cell_type": "code",
   "execution_count": 6,
   "metadata": {},
   "outputs": [
    {
     "name": "stdout",
     "output_type": "stream",
     "text": [
      "请输入要打开的文件名称：ff\n"
     ]
    },
    {
     "ename": "FileNotFoundError",
     "evalue": "[Errno 2] No such file or directory: 'ff'",
     "output_type": "error",
     "traceback": [
      "\u001b[1;31m---------------------------------------------------------------------------\u001b[0m",
      "\u001b[1;31mFileNotFoundError\u001b[0m                         Traceback (most recent call last)",
      "\u001b[1;32m<ipython-input-6-5f7cd783741f>\u001b[0m in \u001b[0;36m<module>\u001b[1;34m\u001b[0m\n\u001b[0;32m      2\u001b[0m \u001b[1;31m#逐行遍历文件：方法一:一次读入 分行处理\u001b[0m\u001b[1;33m\u001b[0m\u001b[1;33m\u001b[0m\u001b[1;33m\u001b[0m\u001b[0m\n\u001b[0;32m      3\u001b[0m \u001b[0mfname\u001b[0m \u001b[1;33m=\u001b[0m \u001b[0minput\u001b[0m\u001b[1;33m(\u001b[0m\u001b[1;34m\"请输入要打开的文件名称：\"\u001b[0m\u001b[1;33m)\u001b[0m\u001b[1;33m\u001b[0m\u001b[1;33m\u001b[0m\u001b[0m\n\u001b[1;32m----> 4\u001b[1;33m \u001b[0mfo\u001b[0m \u001b[1;33m=\u001b[0m \u001b[0mopen\u001b[0m\u001b[1;33m(\u001b[0m\u001b[0mfname\u001b[0m\u001b[1;33m,\u001b[0m\u001b[1;34m\"r\"\u001b[0m\u001b[1;33m)\u001b[0m\u001b[1;33m\u001b[0m\u001b[1;33m\u001b[0m\u001b[0m\n\u001b[0m\u001b[0;32m      5\u001b[0m \u001b[1;32mfor\u001b[0m \u001b[0mline\u001b[0m \u001b[1;32min\u001b[0m \u001b[0mfo\u001b[0m\u001b[1;33m.\u001b[0m\u001b[0mreadlines\u001b[0m\u001b[1;33m(\u001b[0m\u001b[1;33m)\u001b[0m\u001b[1;33m:\u001b[0m\u001b[1;33m\u001b[0m\u001b[1;33m\u001b[0m\u001b[0m\n\u001b[0;32m      6\u001b[0m     \u001b[0mprint\u001b[0m\u001b[1;33m(\u001b[0m\u001b[0mline\u001b[0m\u001b[1;33m)\u001b[0m\u001b[1;33m\u001b[0m\u001b[1;33m\u001b[0m\u001b[0m\n",
      "\u001b[1;31mFileNotFoundError\u001b[0m: [Errno 2] No such file or directory: 'ff'"
     ]
    }
   ],
   "source": [
    "#文件的逐行操作\n",
    "#逐行遍历文件：方法一:一次读入 分行处理\n",
    "fname = input(\"请输入要打开的文件名称：\")\n",
    "fo = open(fname,\"r\")\n",
    "for line in fo.readlines():\n",
    "    print(line)\n",
    "fo.close()\n",
    "\n",
    "#方法二：分行读入，逐行处理\n",
    "fname = input(\"请输入要打开的文件名称：\")\n",
    "fo = open(fname,\"r\")\n",
    "for line in fo:\n",
    "    print(line)\n",
    "fo.close()"
   ]
  },
  {
   "cell_type": "code",
   "execution_count": 9,
   "metadata": {},
   "outputs": [
    {
     "name": "stdout",
     "output_type": "stream",
     "text": [
      "中国法国美国\n"
     ]
    }
   ],
   "source": [
    "#数据的文件写入\n",
    "fo = open(\"output.txt\",\"w+\")\n",
    "ls = [\"中国\",\"法国\",\"美国\"]\n",
    "fo.writelines(ls)  #写过文件之后，文件指针在最后\n",
    "fo.seek(0)    #调整文件指针 指针返回最开始\n",
    "for line in fo:\n",
    "    print(line) #写入一个字符串列表\n",
    "fo.close()"
   ]
  },
  {
   "cell_type": "markdown",
   "metadata": {},
   "source": [
    "### 自动轨迹绘制\n",
    "\n"
   ]
  },
  {
   "cell_type": "markdown",
   "metadata": {},
   "source": [
    "- 需求：根据脚本来绘制图形\n",
    "- 不是写代码而是写数据绘制轨迹\n",
    "- 数据脚本是自动化最重要的第一步\n",
    "-----------------------------------\n",
    "- 步骤1：定义数据文件格式（接口）\n",
    "- 步骤2：编写程序，根据文件接口解析参数绘制图形\n",
    "- 步骤3：编制数据文件\n",
    "-------------------------\n",
    "- 数据接口定义\n",
    "- 300，（行进距离），0（转向判断 0：左转 1：右转），144（转向角度），0,1,0（RGB三个通道颜色）\n",
    "-----------------\n",
    "- 数据和功能分开\n",
    "- 接口化设计：格式化设计接口，清晰明了\n",
    "- 二维数据"
   ]
  },
  {
   "cell_type": "code",
   "execution_count": 12,
   "metadata": {},
   "outputs": [],
   "source": [
    "import turtle as t\n",
    "t.title('自动轨迹绘制')\n",
    "t.setup(800, 600, 0, 0)\n",
    "t.pencolor(\"red\")\n",
    "t.pensize(5)\n",
    "#数据读取\n",
    "datals = []\n",
    "f = open('D:\\BaiduYunDownload\\data.txt')\n",
    "for line in f:\n",
    "    line = line.replace(\"\\n\",\"\")\n",
    "    datals.append(list(map(eval, line.split(\",\"))))\n",
    "f.close\n",
    "#自动绘制\n",
    "for i in range(len(datals)):\n",
    "    t.pencolor(datals[i][3], datals[i][4],datals[i][5])\n",
    "    t.fd(datals[i][0])\n",
    "    if datals[i][1]:\n",
    "        t.right(datals[i][2])\n",
    "    else:\n",
    "        t.left(datals[i][2])"
   ]
  },
  {
   "cell_type": "markdown",
   "metadata": {},
   "source": [
    "### 一维数据的格式化处理\n",
    "- 数据的维度：一维、二维、多维、高维\n",
    "- 一维数据的表示：列表类型（有序）和集合类型（无序）\n",
    "- 一维数据的存储：空格分隔、逗号分隔、特殊符号分隔\n",
    "- 一维数据的处理：字符串方法 .split()和.join()"
   ]
  },
  {
   "cell_type": "code",
   "execution_count": null,
   "metadata": {},
   "outputs": [],
   "source": [
    "#采用特殊分隔方式将数据写入文件\n",
    "ls = open(fname,'w')\n",
    "f.write('$',join(ls))\n",
    "f.close"
   ]
  },
  {
   "cell_type": "markdown",
   "metadata": {},
   "source": [
    "### 二维数据的格式化和处理\n",
    "- 二维数据的表示：列表类型，其中每个元素也是一个列表\n",
    "- CSV格式：逗号分隔表示一维，按行分隔表示二维\n",
    "- 二维数据的处理：for 循环+.split()和.join()"
   ]
  },
  {
   "cell_type": "code",
   "execution_count": 2,
   "metadata": {},
   "outputs": [
    {
     "ename": "NameError",
     "evalue": "name 'fname' is not defined",
     "output_type": "error",
     "traceback": [
      "\u001b[1;31m---------------------------------------------------------------------------\u001b[0m",
      "\u001b[1;31mNameError\u001b[0m                                 Traceback (most recent call last)",
      "\u001b[1;32m<ipython-input-2-fadd8cd81ffe>\u001b[0m in \u001b[0;36m<module>\u001b[1;34m\u001b[0m\n\u001b[0;32m      1\u001b[0m \u001b[1;31m#从CSV格式的文件中读入数据\u001b[0m\u001b[1;33m\u001b[0m\u001b[1;33m\u001b[0m\u001b[1;33m\u001b[0m\u001b[0m\n\u001b[1;32m----> 2\u001b[1;33m \u001b[0mfo\u001b[0m \u001b[1;33m=\u001b[0m \u001b[0mopen\u001b[0m\u001b[1;33m(\u001b[0m\u001b[0mfname\u001b[0m\u001b[1;33m)\u001b[0m\u001b[1;33m\u001b[0m\u001b[1;33m\u001b[0m\u001b[0m\n\u001b[0m\u001b[0;32m      3\u001b[0m \u001b[0mls\u001b[0m \u001b[1;33m=\u001b[0m \u001b[1;33m[\u001b[0m\u001b[1;33m]\u001b[0m\u001b[1;33m\u001b[0m\u001b[1;33m\u001b[0m\u001b[0m\n\u001b[0;32m      4\u001b[0m \u001b[1;32mfor\u001b[0m \u001b[0mline\u001b[0m \u001b[1;32min\u001b[0m \u001b[0mfo\u001b[0m\u001b[1;33m:\u001b[0m\u001b[1;33m\u001b[0m\u001b[1;33m\u001b[0m\u001b[0m\n\u001b[0;32m      5\u001b[0m     \u001b[0mline\u001b[0m \u001b[1;33m=\u001b[0m \u001b[0mline\u001b[0m\u001b[1;33m.\u001b[0m\u001b[0mreplace\u001b[0m\u001b[1;33m(\u001b[0m\u001b[1;34m\"\\n\"\u001b[0m\u001b[1;33m,\u001b[0m\u001b[1;34m\"\"\u001b[0m\u001b[1;33m)\u001b[0m\u001b[1;33m\u001b[0m\u001b[1;33m\u001b[0m\u001b[0m\n",
      "\u001b[1;31mNameError\u001b[0m: name 'fname' is not defined"
     ]
    }
   ],
   "source": [
    "#从CSV格式的文件中读入数据\n",
    "fo = open(fname)\n",
    "ls = []\n",
    "for line in fo:\n",
    "    line = line.replace(\"\\n\",\"\")\n",
    "    ls.append(line.split(\",\"))\n",
    "fo.close()\n",
    "\n",
    "#将数据写入CSV写入格式的文件\n",
    "ls = [[],[],[]] #二维列表\n",
    "f = open(fname, 'w')\n",
    "for item in ls:\n",
    "    f.write(','.join(item)+'\\n')\n",
    "f.close()\n",
    "\n",
    "#二维数据的逐一处理\n",
    "ls = [[1,2],[3,4],[5,6]]\n",
    "for row in ls:\n",
    "    for column in row:\n",
    "        print(column)"
   ]
  },
  {
   "cell_type": "markdown",
   "metadata": {},
   "source": [
    "### wordcloud库概述\n"
   ]
  },
  {
   "cell_type": "markdown",
   "metadata": {},
   "source": [
    "- wordcloud库把词云当做一个WordCloud对象\n",
    "- wordcloud.WordCloud()当做一个文本对应的词云\n",
    "- 可以根据文本中词语出现的频率等参数绘制词云\n",
    "- 绘制词云的形状、尺寸和颜色都可以设定\n",
    "-------------------------------\n",
    "- w = wordcloud.WordCloud()\n",
    "- 以WordCloud对象为基础\n",
    "- 配置参数、加载文本、输出文件\n",
    "-----------------------------------\n",
    "- w.generate(txt) 向WordCloud对象w中加载文本txt >>>w.generate(\"Python and WordCloud\")\n",
    "- w.to_file(filename) 将词云输出为图像文件，.png或.jpg格式 >>>w.to_file(\"outfile.png\")\n",
    "-----------------------------------------------\n",
    "- 步骤：配置对象参数->加载词云文本->输出词云文件\n",
    "- (1)分隔：以空格分隔单词\n",
    "- (2)统计：单词出现次数并过滤\n",
    "- (3)字体：根据统计配置字号\n",
    "- (4)布局：颜色环境尺寸\n",
    "-----------------------------\n",
    "- <宽度,高度,最小字号,最大字号,字号步进间隔,字体文件的路径,指定词云显示的最大单词数量,mask>"
   ]
  },
  {
   "cell_type": "code",
   "execution_count": 1,
   "metadata": {},
   "outputs": [
    {
     "data": {
      "text/plain": [
       "<wordcloud.wordcloud.WordCloud at 0x1a92d43c908>"
      ]
     },
     "execution_count": 1,
     "metadata": {},
     "output_type": "execute_result"
    }
   ],
   "source": [
    "import wordcloud\n",
    "c = wordcloud.WordCloud()\n",
    "c.generate(\"Python and WordCloud\")\n",
    "c.to_file(\"pywordcloud.png\")"
   ]
  },
  {
   "cell_type": "code",
   "execution_count": 8,
   "metadata": {},
   "outputs": [
    {
     "data": {
      "text/plain": [
       "<wordcloud.wordcloud.WordCloud at 0x251f6f4bd68>"
      ]
     },
     "execution_count": 8,
     "metadata": {},
     "output_type": "execute_result"
    }
   ],
   "source": [
    "import wordcloud\n",
    "txt = \"The current state of wide bandgap device technology\\\n",
    "is reviewed and its impact on power electronic system\\\n",
    "miniaturization for a wide variety of voltage levels is described.\\\n",
    "A synopsis of recent complementary technological developments\\\n",
    "in passives, integrated driver, and protection circuitry and\\\n",
    "electronic packaging are described, followed by an outline of\\\n",
    "the applications that stand to be impacted. A glimpse into the\\\n",
    "future based on the current technological trends is offered.\"\n",
    "w = wordcloud.WordCloud(\\\n",
    "                       background_color = \"white\")\n",
    "w.generate(txt)\n",
    "w.to_file(\"pywcloud.png\")"
   ]
  },
  {
   "cell_type": "code",
   "execution_count": 4,
   "metadata": {},
   "outputs": [
    {
     "name": "stderr",
     "output_type": "stream",
     "text": [
      "Building prefix dict from the default dictionary ...\n",
      "Loading model from cache C:\\Users\\john\\AppData\\Local\\Temp\\jieba.cache\n",
      "Loading model cost 1.317 seconds.\n",
      "Prefix dict has been built succesfully.\n"
     ]
    },
    {
     "data": {
      "text/plain": [
       "<wordcloud.wordcloud.WordCloud at 0x1a9355ea0f0>"
      ]
     },
     "execution_count": 4,
     "metadata": {},
     "output_type": "execute_result"
    }
   ],
   "source": [
    "import jieba\n",
    "import wordcloud\n",
    "txt = \"程序设计语言是计算机能够理解和\\\n",
    "识别用户操作意图的一种交互体系，它按照\\\n",
    "特定规则组织计算机指令，使计算机能够自\\\n",
    "动进行各种运算处理。\"\n",
    "w = wordcloud.WordCloud( width = 1000,\\\n",
    "                       font_path=\"msyh.ttc\",height=700)\n",
    "w.generate(\" \".join(jieba.lcut(txt)))"
   ]
  },
  {
   "cell_type": "markdown",
   "metadata": {},
   "source": [
    "### 政府工作报告词云\n",
    "- 步骤1：读取文件、分词整理\n",
    "- 步骤2：设置并输出词云\n",
    "- 步骤3：观察结果，优化迭代"
   ]
  },
  {
   "cell_type": "code",
   "execution_count": 1,
   "metadata": {},
   "outputs": [
    {
     "name": "stderr",
     "output_type": "stream",
     "text": [
      "Building prefix dict from the default dictionary ...\n",
      "Loading model from cache C:\\Users\\john\\AppData\\Local\\Temp\\jieba.cache\n",
      "Loading model cost 1.476 seconds.\n",
      "Prefix dict has been built succesfully.\n"
     ]
    },
    {
     "data": {
      "text/plain": [
       "<wordcloud.wordcloud.WordCloud at 0x14891de0cf8>"
      ]
     },
     "execution_count": 1,
     "metadata": {},
     "output_type": "execute_result"
    }
   ],
   "source": [
    "#读取文件、分词处理\n",
    "import jieba\n",
    "import wordcloud\n",
    "f = open(\"D:\\BaiduYunDownload\\文献1.txt\",\"r\",encoding=\"utf-8\")\n",
    "t = f.read()\n",
    "f.close()\n",
    "ls = jieba.lcut(t)\n",
    "txt = \" \".join(ls) #用空格将列表的每一个元素连接起来\n",
    "w = wordcloud.WordCloud( font_path = \"msyh.ttc\",\\\n",
    "    width = 1000, height = 700, background_color = \"white\",\\\n",
    "    max_words = 15)\n",
    "w.generate(txt)\n",
    "w.to_file(\"grwordcloud.png\")"
   ]
  },
  {
   "cell_type": "markdown",
   "metadata": {},
   "source": []
  }
 ],
 "metadata": {
  "kernelspec": {
   "display_name": "Python 3",
   "language": "python",
   "name": "python3"
  },
  "language_info": {
   "codemirror_mode": {
    "name": "ipython",
    "version": 3
   },
   "file_extension": ".py",
   "mimetype": "text/x-python",
   "name": "python",
   "nbconvert_exporter": "python",
   "pygments_lexer": "ipython3",
   "version": "3.7.3"
  }
 },
 "nbformat": 4,
 "nbformat_minor": 2
}
